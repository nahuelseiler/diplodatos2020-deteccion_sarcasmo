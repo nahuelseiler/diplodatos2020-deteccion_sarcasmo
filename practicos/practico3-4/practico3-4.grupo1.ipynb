{
 "cells": [
  {
   "cell_type": "code",
   "execution_count": 132,
   "metadata": {},
   "outputs": [],
   "source": [
    "# definir los imports en esta celda\n",
    "import matplotlib.pyplot as plt\n",
    "from nltk.corpus import stopwords\n",
    "from nltk.tokenize import TreebankWordTokenizer\n",
    "import numpy as np\n",
    "import pandas as pd\n",
    "import re\n",
    "import seaborn as sns\n",
    "from sklearn.feature_extraction.text import CountVectorizer\n",
    "from sklearn.model_selection import train_test_split\n",
    "from sklearn.linear_model import LogisticRegression\n",
    "from sklearn.naive_bayes import MultinomialNB\n",
    "from sklearn.decomposition import TruncatedSVD\n",
    "from sklearn.pipeline import Pipeline\n",
    "from sklearn.model_selection import GridSearchCV\n",
    "from sklearn.feature_extraction.text import TfidfVectorizer\n",
    "from sklearn.metrics import f1_score, accuracy_score, confusion_matrix, precision_score, recall_score\n",
    "import string\n"
   ]
  },
  {
   "cell_type": "markdown",
   "metadata": {},
   "source": [
    "#### 1. Introducción:  los problemas de la detección del sarcasmo"
   ]
  },
  {
   "cell_type": "markdown",
   "metadata": {},
   "source": [
    "El sarcasmo es una forma de ironía que ocurre cuando hay una discrepancia entre el significado literal de un\n",
    "enunciado y su significado pretendido. Esta discrepancia se utiliza para expresar una forma de actitud disociativa\n",
    "hacia una proposición anterior, a menudo en la forma de desprecio o derogación (Wilson, 2006).\n",
    "\n",
    "La tarea de la detección automática del sarcasmo debe lidiar con el problema del significado pretendido por el emisor y el significado percibido por el receptor. El problema de cómo identificar el sarcasmo para un humano está anclado en aspectos del lenguaje que traspasan el mero signo escrito (es decir, el conjunto de palabras escritas que conforman el texto), y suponen una serie de elementos culturales, sociales e históricos para su correcta comprensión (y aun así, teniendo todo lo que uno podría \"necesitar\" para enteder el sarcasmo, sucede muchas veces que no lo captamos).\n",
    "\n",
    "El sarcasmo está presente en gran parte de las interacciones que suceden en las redes sociales. Y si es imperativo tener un modelo computacional que lo pueda detectar, la calidad de dicho modelo dependerá necesariamente de la calidad de la información con la que lo \"alimentemos\". \n",
    "\n",
    "La idea es avanzar sobre el corpus presente conociendo estas limitaciones, y explorar las posibilidades que nos brinda nuestro conjunto de datos para estudiar el problema y hasta incluso aventurar con alguna recomendación metodológica que mejore eventualmente el estado del arte."
   ]
  },
  {
   "cell_type": "markdown",
   "metadata": {},
   "source": [
    "#### 2. Procesamiento de datos, análisis exploratorio y normalización del corpus"
   ]
  },
  {
   "cell_type": "markdown",
   "metadata": {},
   "source": [
    "El coropora se compone de 3 corpus de comentarios realizados encontrados en la web. Estos corpus son obtenidos a partir del Internet Argument Corpus (IAC) 2.0 (Abbott et al., 2016). Esta es una colección de corpus para la investigación en el debate político en foros de Internet. Consta de tres conjuntos de datos: 4 foros (414.000 publicaciones), ConvinceMe (65.000 publicaciones) y una muestra de CreateDebate (3.000 publicaciones). Incluye anotaciones de temas, caracterizaciones de respuestas (4 foros) y diversas posturas. \n",
    "\n",
    "Hay que notar algo importante: los documentos en cada uno de estos coprus poseen caracterítcias estructurales distitnas, tal como señalan Oraby et al. (2016). Esto significa que dos corpus, HYP y RQ buscan capturar un tipo específico de sarcasmo cada uno: hipérboles y pregutnas retóricas, respectivamente. GEN, por otro lado, captura tanto hipérboles como preguntas críticas, a la vez que otro tipo de sarcasmos (podríamos llamarlos \"genéricos\") lo que lo hace un conjunto heterogéneo en su composición.\n",
    "\n",
    "¿Es esta información relevante? Nuestra intuición es que sí. La idea de recopilar corpus adicionales para preguntas retóricas e hipérboles es, según los autores del corpus, aumentar la diversidad del corpus, y que nos permita explorar\n",
    "las diferencias semánticas entre expresiones sarcásticas y expresiones no sarcásticas cuando las señales léxico-sintácticas particulares se mantienen constantes. Dicho de otro modo, es poder identificar qué sucede con los modelos cuando la información que se tiene a disposición para separar una categoría de otra muestra elementos constantes tanto en una categoría como en otra. ¿Son capaces de encontrar entonces estructuras semánticas más \"profundas\", asociadas obviamente a signos (como palabras o frases) que aparecan en los documentos?\n",
    "\n",
    "A continuación caragamos los datasets para ver en detalle sus características.\n",
    "\n",
    "\n"
   ]
  },
  {
   "cell_type": "code",
   "execution_count": 12,
   "metadata": {},
   "outputs": [
    {
     "name": "stdout",
     "output_type": "stream",
     "text": [
      "El corpora entero se compone de 9386 documentos, 6520 en GEN, 1164 en HYP y 1702 en RQ\n"
     ]
    }
   ],
   "source": [
    "#GEN o generico\n",
    "df_gen = pd.read_csv(\"../datasets/GEN-sarc-notsarc.csv\")\n",
    "#HYP o hipérboles\n",
    "df_hyp = pd.read_csv('../datasets/HYP-sarc-notsarc.csv')\n",
    "#RQ o preguntas retóricas\n",
    "df_rq = pd.read_csv('../datasets/RQ-sarc-notsarc.csv')\n",
    "\n",
    "df1 = pd.concat([df_gen, df_hyp, df_rq], ignore_index=True)\n",
    "df1.head()\n",
    "print('El corpora entero se compone de {} documentos, {} en GEN, {} en HYP y {} en RQ'.\n",
    "      format(len(df1.index), len(df_gen), len(df_hyp), len(df_rq)))\n",
    "                "
   ]
  },
  {
   "cell_type": "code",
   "execution_count": 17,
   "metadata": {},
   "outputs": [
    {
     "data": {
      "text/html": [
       "<div>\n",
       "<style scoped>\n",
       "    .dataframe tbody tr th:only-of-type {\n",
       "        vertical-align: middle;\n",
       "    }\n",
       "\n",
       "    .dataframe tbody tr th {\n",
       "        vertical-align: top;\n",
       "    }\n",
       "\n",
       "    .dataframe thead th {\n",
       "        text-align: right;\n",
       "    }\n",
       "</style>\n",
       "<table border=\"1\" class=\"dataframe\">\n",
       "  <thead>\n",
       "    <tr style=\"text-align: right;\">\n",
       "      <th></th>\n",
       "      <th>class</th>\n",
       "      <th>id</th>\n",
       "      <th>text</th>\n",
       "    </tr>\n",
       "  </thead>\n",
       "  <tbody>\n",
       "    <tr>\n",
       "      <th>0</th>\n",
       "      <td>notsarc</td>\n",
       "      <td>1</td>\n",
       "      <td>If that's true, then Freedom of Speech is doom...</td>\n",
       "    </tr>\n",
       "    <tr>\n",
       "      <th>1</th>\n",
       "      <td>notsarc</td>\n",
       "      <td>2</td>\n",
       "      <td>Neener neener - is it time to go in from the p...</td>\n",
       "    </tr>\n",
       "    <tr>\n",
       "      <th>2</th>\n",
       "      <td>notsarc</td>\n",
       "      <td>3</td>\n",
       "      <td>Just like the plastic gun fear, the armour pie...</td>\n",
       "    </tr>\n",
       "    <tr>\n",
       "      <th>3</th>\n",
       "      <td>notsarc</td>\n",
       "      <td>4</td>\n",
       "      <td>So geology is a religion because we weren't he...</td>\n",
       "    </tr>\n",
       "    <tr>\n",
       "      <th>4</th>\n",
       "      <td>notsarc</td>\n",
       "      <td>5</td>\n",
       "      <td>Well done Monty. Mark that up as your first ev...</td>\n",
       "    </tr>\n",
       "  </tbody>\n",
       "</table>\n",
       "</div>"
      ],
      "text/plain": [
       "     class  id                                               text\n",
       "0  notsarc   1  If that's true, then Freedom of Speech is doom...\n",
       "1  notsarc   2  Neener neener - is it time to go in from the p...\n",
       "2  notsarc   3  Just like the plastic gun fear, the armour pie...\n",
       "3  notsarc   4  So geology is a religion because we weren't he...\n",
       "4  notsarc   5  Well done Monty. Mark that up as your first ev..."
      ]
     },
     "execution_count": 17,
     "metadata": {},
     "output_type": "execute_result"
    }
   ],
   "source": [
    "df_gen.head()"
   ]
  },
  {
   "cell_type": "markdown",
   "metadata": {},
   "source": [
    "En este punto debemos entrar en las especificaciones de cada dataset.\n",
    "Debemos notar lo siguiente:\n",
    "\n",
    "* El dataset **RQ**: se compone en parte de 357 documentos que aparecen en el corpus **GEN**;\n",
    "* El dataset **HYP**: se compone en parte de 30 que aparecen en el corpus **GEN**;\n",
    "\n",
    "Por ende, la manera correcta de proceder es analizar el comportamiento de los modelos con cada uno de estos sets primero. Luego de obtener resultados, en una tercera instancia podríamos concatenar los tres corpus en uno solo, cuidando de remover aquellos documentos repetidos."
   ]
  },
  {
   "cell_type": "code",
   "execution_count": 13,
   "metadata": {},
   "outputs": [],
   "source": [
    "# Algunas funciones de interés \n",
    "\n",
    "# Remover puntuación de nuestro dataset\n",
    "def remove_punct(text):\n",
    "    table = str.maketrans(\"\", \"\", string.punctuation)\n",
    "    return text.translate(table)\n",
    "\n",
    "# Remover las stopwords de nuestro dataset\n",
    "def remove_stopwords(text):\n",
    "    stop = set(stopwords.words(\"english\"))\n",
    "    text = [word.lower() for word in text.split() if word.lower() not in stop]\n",
    "    return \" \".join(text)"
   ]
  },
  {
   "cell_type": "markdown",
   "metadata": {},
   "source": [
    "#### 2. Normalización de texto y preprocesamiento\n",
    "\n",
    "En esta sección comenzamos a preparar los documentos para cada set. Como la tarea de reconocimiento de sarcasmo es una tarea de clasificación, y en este caso tenemos las etiquetas, entonces podemos empezar a separar nuestras etiquetas de los \n",
    "documentos y a procesarlas a cada una por separado."
   ]
  },
  {
   "cell_type": "code",
   "execution_count": 21,
   "metadata": {},
   "outputs": [],
   "source": [
    "#Antes que nada, reemplazo las etiquetas por valores numéricos, procesables por el modelo\n",
    "df_gen.loc[df_gen['class']=='notsarc','class'] = 0\n",
    "df_gen.loc[df_gen['class']=='sarc','class'] = 1\n",
    "\n",
    "df_hyp.loc[df_hyp['class']=='notsarc','class'] = 0\n",
    "df_hyp.loc[df_hyp['class']=='sarc','class'] = 1\n",
    "\n",
    "df_rq.loc[df_rq['class']=='notsarc','class'] = 0\n",
    "df_rq.loc[df_rq['class']=='sarc','class'] = 1\n"
   ]
  },
  {
   "cell_type": "code",
   "execution_count": 58,
   "metadata": {},
   "outputs": [],
   "source": [
    "#Y separamos las etiquetas de los documentos, de manera tal que nos queden dos features distintas.\n",
    "#Como en esta matriz solo tenemos tres columnas, podemos excluir esta feature del conjunto de entrenamiento.\n",
    "\n",
    "X_gen = df_gen['text']\n",
    "y_gen = df_gen['class']\n",
    "y_gen = y_gen.astype('int')\n",
    "\n",
    "X_hyp = df_hyp['text']\n",
    "y_hyp = df_hyp['class']\n",
    "y_hyp = y_hyp.astype('int')\n",
    "\n",
    "X_rq = df_rq['text']\n",
    "y_rq = df_rq['class']\n",
    "y_rq = y_rq.astype('int')\n",
    "\n"
   ]
  },
  {
   "cell_type": "markdown",
   "metadata": {},
   "source": [
    "#### 2.1 Bag of Words\n",
    "En este punto querría disponer de mi información tokenizada y filtrada. Decidimos no eliminar stopwords no lemmatizar de entrada porque no sabemos si al hacer esto estaríamos eliminando información crucial para la tarea. Así que este tratamiento se deja para una segunda etapa de ingeniería de features. Dado que queremos trabajar con le corpus tokenizado aprovechamos y creamos una **bag of words** que a su vez nos pemritirá trabajar con ngramas, aumentado así la información para el análisis."
   ]
  },
  {
   "cell_type": "code",
   "execution_count": 65,
   "metadata": {},
   "outputs": [],
   "source": [
    "#Definimos uan función que devuelve un modelo\n",
    "def count_vect(train_data, ngrams=(1, 1)):\n",
    "    count_vectorizer = CountVectorizer(ngram_range=ngrams)\n",
    "    emb_train = count_vectorizer.fit_transform(train_data)    \n",
    "    return emb_train, count_vectorizer"
   ]
  },
  {
   "cell_type": "code",
   "execution_count": 63,
   "metadata": {},
   "outputs": [],
   "source": [
    "#creamos los bag of words\n",
    "cv_gen,  cv1 = count_vect(X_gen, ngrams=(1, 3))\n",
    "cv_hyp, cv2 = count_vect(X_hyp, ngrams=(1, 3))\n",
    "cv_rq, cv3 = count_vect(X_rq, ngrams=(1, 3))"
   ]
  },
  {
   "cell_type": "code",
   "execution_count": 68,
   "metadata": {},
   "outputs": [],
   "source": [
    "#Preparamos los conjuntos de entrenamiento para usarlos con los modelos\n",
    "#GEN\n",
    "X_traincvgen, X_testcvgen, y_traincvgen, y_testcvgen = train_test_split(cv_gen, y_gen, test_size=0.2, random_state=42)\n",
    "#HYP\n",
    "X_traincvhyp, X_testcvhyp, y_traincvhyp, y_testcvhyp = train_test_split(cv_hyp, y_hyp, test_size=0.2, random_state=42)\n",
    "#RQ\n",
    "X_traincvrq, X_testcvrq, y_traincvrq, y_testcvrq = train_test_split(cv_rq, y_rq, test_size=0.2, random_state=42)"
   ]
  },
  {
   "cell_type": "markdown",
   "metadata": {},
   "source": [
    "#### 2.2 Term Frequency Inverse Document Frequency\n",
    "\n",
    "Con la misma lógica que en el punto anterior, creo ahora un modelo de TFIDF. Es de esperar que este tratamiento mejore el rendimiento de los modelos dado que su tratamiento de la información supone ciertas ventajas sobre el simple conteo de frecuencia de un ngrama dado por el bag of words. "
   ]
  },
  {
   "cell_type": "code",
   "execution_count": 66,
   "metadata": {},
   "outputs": [],
   "source": [
    "#Definimos uan función que devuelve un modelo\n",
    "def tfidf(train_data, ngrams=(1, 1)):\n",
    "    tfidf_vectorizer = TfidfVectorizer(ngram_range=ngrams)\n",
    "    train = tfidf_vectorizer.fit_transform(train_data)\n",
    "    return train, tfidf_vectorizer"
   ]
  },
  {
   "cell_type": "code",
   "execution_count": 67,
   "metadata": {},
   "outputs": [],
   "source": [
    "#creamos los modelos tfidf\n",
    "tf_gen, cv1 = tfidf(X_gen, ngrams=(1, 3))\n",
    "tf_hyp, cv2 = tfidf(X_hyp, ngrams=(1, 3))\n",
    "tf_rq, cv3 = tfidf(X_rq, ngrams=(1, 3))"
   ]
  },
  {
   "cell_type": "code",
   "execution_count": 69,
   "metadata": {},
   "outputs": [],
   "source": [
    "#Preparamos los conjuntos de entrenamiento para usarlos con los modelos\n",
    "#GEN\n",
    "X_traintfgen, X_testtfgen, y_traintfgen, y_testtfgen = train_test_split(tf_gen, y_gen, test_size=0.2, random_state=42)\n",
    "#HYP\n",
    "X_traintfhyp, X_testtfhyp, y_traintfhyp, y_testtfhyp = train_test_split(tf_hyp, y_hyp, test_size=0.2, random_state=42)\n",
    "#RQ\n",
    "X_traintfrq, X_testtfrq, y_traintfrq, y_testtfrq = train_test_split(tf_rq, y_rq, test_size=0.2, random_state=42)"
   ]
  },
  {
   "cell_type": "markdown",
   "metadata": {},
   "source": [
    "#### 3. Modelización \n",
    "#### 3.1 Regresión Logística\n",
    "Teniedo los conjuntos listos, podemos empezara a probar distintos modelos. Probamos primero con una **regresión logística**"
   ]
  },
  {
   "cell_type": "markdown",
   "metadata": {},
   "source": [
    "#### 3.1.1 Rregesión logística aplicada a Bag fo words"
   ]
  },
  {
   "cell_type": "code",
   "execution_count": 77,
   "metadata": {},
   "outputs": [
    {
     "name": "stderr",
     "output_type": "stream",
     "text": [
      "C:\\Users\\Eleuterio\\Anaconda3\\envs\\diplo_tutoria\\lib\\site-packages\\sklearn\\linear_model\\_logistic.py:762: ConvergenceWarning: lbfgs failed to converge (status=1):\n",
      "STOP: TOTAL NO. of ITERATIONS REACHED LIMIT.\n",
      "\n",
      "Increase the number of iterations (max_iter) or scale the data as shown in:\n",
      "    https://scikit-learn.org/stable/modules/preprocessing.html\n",
      "Please also refer to the documentation for alternative solver options:\n",
      "    https://scikit-learn.org/stable/modules/linear_model.html#logistic-regression\n",
      "  n_iter_i = _check_optimize_result(\n"
     ]
    }
   ],
   "source": [
    "#GEN\n",
    "lr_gen = LogisticRegression(class_weight=\"balanced\")\n",
    "lr_gen.fit(X_traincvgen, y_traincvgen)\n",
    "lr_predgen = lr_gen.predict(X_testcvgen)\n",
    "#HYP\n",
    "lr_hyp = LogisticRegression(class_weight=\"balanced\")\n",
    "lr_hyp.fit(X_traincvhyp, y_traincvhyp)\n",
    "lr_predhyp = lr_hyp.predict(X_testcvhyp)\n",
    "#RQ\n",
    "lr_rq = LogisticRegression(class_weight=\"balanced\")\n",
    "lr_rq.fit(X_traincvrq, y_traincvrq)\n",
    "lr_predrq = lr_rq.predict(X_testcvrq)"
   ]
  },
  {
   "cell_type": "markdown",
   "metadata": {},
   "source": [
    "Preparamos un dataset con los **scores**. Utilizaremos **f1, accuracy, precission y recall**."
   ]
  },
  {
   "cell_type": "code",
   "execution_count": 85,
   "metadata": {},
   "outputs": [
    {
     "data": {
      "text/html": [
       "<div>\n",
       "<style scoped>\n",
       "    .dataframe tbody tr th:only-of-type {\n",
       "        vertical-align: middle;\n",
       "    }\n",
       "\n",
       "    .dataframe tbody tr th {\n",
       "        vertical-align: top;\n",
       "    }\n",
       "\n",
       "    .dataframe thead th {\n",
       "        text-align: right;\n",
       "    }\n",
       "</style>\n",
       "<table border=\"1\" class=\"dataframe\">\n",
       "  <thead>\n",
       "    <tr style=\"text-align: right;\">\n",
       "      <th></th>\n",
       "      <th>F1 Score</th>\n",
       "      <th>Accuracy Score</th>\n",
       "      <th>Precission</th>\n",
       "      <th>Recall</th>\n",
       "    </tr>\n",
       "  </thead>\n",
       "  <tbody>\n",
       "    <tr>\n",
       "      <th>GEN</th>\n",
       "      <td>0.744665</td>\n",
       "      <td>0.733896</td>\n",
       "      <td>0.707692</td>\n",
       "      <td>0.785714</td>\n",
       "    </tr>\n",
       "    <tr>\n",
       "      <th>HYP</th>\n",
       "      <td>0.649351</td>\n",
       "      <td>0.652361</td>\n",
       "      <td>0.619835</td>\n",
       "      <td>0.681818</td>\n",
       "    </tr>\n",
       "    <tr>\n",
       "      <th>RQ</th>\n",
       "      <td>0.714286</td>\n",
       "      <td>0.706745</td>\n",
       "      <td>0.672043</td>\n",
       "      <td>0.762195</td>\n",
       "    </tr>\n",
       "  </tbody>\n",
       "</table>\n",
       "</div>"
      ],
      "text/plain": [
       "     F1 Score  Accuracy Score  Precission    Recall\n",
       "GEN  0.744665        0.733896    0.707692  0.785714\n",
       "HYP  0.649351        0.652361    0.619835  0.681818\n",
       "RQ   0.714286        0.706745    0.672043  0.762195"
      ]
     },
     "execution_count": 85,
     "metadata": {},
     "output_type": "execute_result"
    }
   ],
   "source": [
    "#GEN SCORES\n",
    "f1cvgen = f1_score(y_testcvgen, lr_predgen)\n",
    "accuracycvgen = accuracy_score(y_testcvgen, lr_predgen)\n",
    "precisioncvgen = precision_score(y_testcvgen, lr_predgen)\n",
    "recallcvgen = recall_score(y_testcvgen, lr_predgen)\n",
    "#HYP SCORES\n",
    "f1cvhyp = f1_score(y_testcvhyp, lr_predhyp)\n",
    "accuracycvhyp = accuracy_score(y_testcvhyp, lr_predhyp)\n",
    "precisioncvhyp = precision_score(y_testcvhyp, lr_predhyp)\n",
    "recallcvhyp = recall_score(y_testcvhyp, lr_predhyp)\n",
    "#RQ SCORES\n",
    "f1cvrq = f1_score(y_testcvrq, lr_predrq)\n",
    "accuracycvrq = accuracy_score(y_testcvrq, lr_predrq)\n",
    "precisioncvrq = precision_score(y_testcvrq, lr_predrq)\n",
    "recallcvrq = recall_score(y_testcvrq, lr_predrq)\n",
    "\n",
    "cv_scores_columns = {'F1 Score':[f1cvgen, f1cvhyp, f1cvrq],\n",
    "            'Accuracy Score':[accuracycvgen, accuracycvhyp, accuracycvrq],\n",
    "            'Precission':[precisioncvgen, precisioncvhyp, precisioncvrq],\n",
    "            'Recall':[recallcvgen, recallcvhyp, recallcvrq]}\n",
    "\n",
    "cv_scores = pd.DataFrame(cv_scores_columns, columns = ['F1 Score','Accuracy Score', 'Precission', 'Recall'],\n",
    "                         index=['GEN','HYP','RQ'])\n",
    "cv_scores"
   ]
  },
  {
   "cell_type": "markdown",
   "metadata": {},
   "source": [
    "En este punto podemos acceder a la **tabla de contingencia** para cada modelo sobre cada conjunto de la siguiente forma"
   ]
  },
  {
   "cell_type": "code",
   "execution_count": 136,
   "metadata": {},
   "outputs": [
    {
     "data": {
      "image/png": "[encoded data removed]",
      "text/plain": [
       "<Figure size 432x288 with 2 Axes>"
      ]
     },
     "metadata": {
      "needs_background": "light"
     },
     "output_type": "display_data"
    }
   ],
   "source": [
    "pd_contingency = pd.crosstab(y_testcvgen, lr_predgen)\n",
    "\n",
    "fig = plt.figure()\n",
    "\n",
    "plt.clf()\n",
    "\n",
    "ax = fig.add_subplot(111)\n",
    "\n",
    "ax.set_aspect(1)\n",
    "\n",
    "res = sns.heatmap(pd_contingency, annot=True, vmin=0.0, vmax=1000.0, fmt='.2f')\n",
    "\n",
    "plt.yticks([0.5,1.5], ['SARCAMO', 'NO SARCASMO'],va='center')\n",
    "\n",
    "plt.title('''Tabla de contingencia para el corpus GEN con Bag of Words y Linear Regressor''')\n",
    "\n",
    "plt.savefig('confusion_table.png', format='png', bbox_inches='tight')"
   ]
  },
  {
   "cell_type": "markdown",
   "metadata": {},
   "source": [
    "#### 3.1.2 Regresión logística con TFIDF\n",
    "                                                                                                                    "
   ]
  },
  {
   "cell_type": "code",
   "execution_count": 94,
   "metadata": {},
   "outputs": [],
   "source": [
    "#GEN\n",
    "lr_gen1 = LogisticRegression(class_weight=\"balanced\")\n",
    "lr_gen1.fit(X_traintfgen, y_traintfgen)\n",
    "lr_predgen1 = lr_gen1.predict(X_testtfgen)\n",
    "#HYP\n",
    "lr_hyp1 = LogisticRegression(class_weight=\"balanced\")\n",
    "lr_hyp1.fit(X_traintfhyp, y_traintfhyp)\n",
    "lr_predhyp1 = lr_hyp1.predict(X_testtfhyp)\n",
    "#RQ\n",
    "lr_rq1 = LogisticRegression(class_weight=\"balanced\")\n",
    "lr_rq1.fit(X_traintfrq, y_traintfrq)\n",
    "lr_predrq1 = lr_rq1.predict(X_testtfrq)"
   ]
  },
  {
   "cell_type": "code",
   "execution_count": 95,
   "metadata": {},
   "outputs": [
    {
     "data": {
      "text/html": [
       "<div>\n",
       "<style scoped>\n",
       "    .dataframe tbody tr th:only-of-type {\n",
       "        vertical-align: middle;\n",
       "    }\n",
       "\n",
       "    .dataframe tbody tr th {\n",
       "        vertical-align: top;\n",
       "    }\n",
       "\n",
       "    .dataframe thead th {\n",
       "        text-align: right;\n",
       "    }\n",
       "</style>\n",
       "<table border=\"1\" class=\"dataframe\">\n",
       "  <thead>\n",
       "    <tr style=\"text-align: right;\">\n",
       "      <th></th>\n",
       "      <th>F1 Score</th>\n",
       "      <th>Accuracy Score</th>\n",
       "      <th>Precission</th>\n",
       "      <th>Recall</th>\n",
       "    </tr>\n",
       "  </thead>\n",
       "  <tbody>\n",
       "    <tr>\n",
       "      <th>GEN</th>\n",
       "      <td>0.739130</td>\n",
       "      <td>0.733129</td>\n",
       "      <td>0.714493</td>\n",
       "      <td>0.765528</td>\n",
       "    </tr>\n",
       "    <tr>\n",
       "      <th>HYP</th>\n",
       "      <td>0.628319</td>\n",
       "      <td>0.639485</td>\n",
       "      <td>0.612069</td>\n",
       "      <td>0.645455</td>\n",
       "    </tr>\n",
       "    <tr>\n",
       "      <th>RQ</th>\n",
       "      <td>0.722892</td>\n",
       "      <td>0.730205</td>\n",
       "      <td>0.714286</td>\n",
       "      <td>0.731707</td>\n",
       "    </tr>\n",
       "  </tbody>\n",
       "</table>\n",
       "</div>"
      ],
      "text/plain": [
       "     F1 Score  Accuracy Score  Precission    Recall\n",
       "GEN  0.739130        0.733129    0.714493  0.765528\n",
       "HYP  0.628319        0.639485    0.612069  0.645455\n",
       "RQ   0.722892        0.730205    0.714286  0.731707"
      ]
     },
     "execution_count": 95,
     "metadata": {},
     "output_type": "execute_result"
    }
   ],
   "source": [
    "#GEN SCORES\n",
    "f1tfgen = f1_score(y_testtfgen, lr_predgen1)\n",
    "accuracytfgen = accuracy_score(y_testtfgen, lr_predgen1)\n",
    "precisiontfgen = precision_score(y_testtfgen, lr_predgen1)\n",
    "recalltfgen = recall_score(y_testtfgen, lr_predgen1)\n",
    "#HYP SCORES\n",
    "f1tfhyp = f1_score(y_testtfhyp, lr_predhyp1)\n",
    "accuracytfhyp = accuracy_score(y_testtfhyp, lr_predhyp1)\n",
    "precisiontfhyp = precision_score(y_testtfhyp, lr_predhyp1)\n",
    "recalltfhyp = recall_score(y_testtfhyp, lr_predhyp1)\n",
    "#RQ SCORES\n",
    "f1tfrq = f1_score(y_testtfrq, lr_predrq1)\n",
    "accuracytfrq = accuracy_score(y_testtfrq, lr_predrq1)\n",
    "precisiontfrq = precision_score(y_testtfrq, lr_predrq1)\n",
    "recalltfrq = recall_score(y_testtfrq, lr_predrq1)\n",
    "\n",
    "tf_scores_columns = {'F1 Score':[f1tfgen, f1tfhyp, f1tfrq],\n",
    "            'Accuracy Score':[accuracytfgen, accuracytfhyp, accuracytfrq],\n",
    "            'Precission':[precisiontfgen, precisiontfhyp, precisiontfrq],\n",
    "            'Recall':[recalltfgen, recalltfhyp, recalltfrq]}\n",
    "\n",
    "tf_scores = pd.DataFrame(tf_scores_columns, columns = ['F1 Score','Accuracy Score', 'Precission', 'Recall'],\n",
    "                         index=['GEN','HYP','RQ'])\n",
    "tf_scores"
   ]
  },
  {
   "cell_type": "markdown",
   "metadata": {},
   "source": [
    "Podemos sintetizar en la siguiente tabla la información encontrada (**armar la tabla combinando los dos dataframes con los scores**). Como **conclusión provisoria**, podemos ver que sin mucha ingenieria de features (y sin adentrarnos nada en la afinación de parámetros de los modelos) ni limpieza de los corpus, los métodos de preprocesamiento (Bag of Words y TFIDF) no parecen cambiar de manera radical el output del modelo. "
   ]
  },
  {
   "cell_type": "markdown",
   "metadata": {},
   "source": [
    "#### 3.2 Naive Bayes\n",
    "\n",
    "Ahora es hora de probar nuestro dataset con un **clasificador Bayesiano**. Para esto utlizaremos el modelo que viene con scikitlear **multinomilaNB** en cada uno de los corpus procesados. "
   ]
  },
  {
   "cell_type": "markdown",
   "metadata": {},
   "source": [
    "#### 3.2.1 Naive Bayes aplicado a Bag of Words"
   ]
  },
  {
   "cell_type": "code",
   "execution_count": 97,
   "metadata": {},
   "outputs": [],
   "source": [
    "#Entrenamos los modelos con cada uno de los corpus.\n",
    "#GEN\n",
    "nb_gen = MultinomialNB()\n",
    "nb_gen.fit(X_traincvgen, y_traincvgen)\n",
    "nb_predgen = nb_gen.predict(X_testcvgen)\n",
    "#HYP\n",
    "nb_hyp = MultinomialNB()\n",
    "nb_hyp.fit(X_traincvhyp, y_traincvhyp)\n",
    "nb_predhyp = nb_hyp.predict(X_testcvhyp)\n",
    "#RQ\n",
    "nb_rq = MultinomialNB()\n",
    "nb_rq.fit(X_traincvrq, y_traincvrq)\n",
    "nb_predrq = nb_rq.predict(X_testcvrq)"
   ]
  },
  {
   "cell_type": "code",
   "execution_count": 98,
   "metadata": {},
   "outputs": [
    {
     "data": {
      "text/html": [
       "<div>\n",
       "<style scoped>\n",
       "    .dataframe tbody tr th:only-of-type {\n",
       "        vertical-align: middle;\n",
       "    }\n",
       "\n",
       "    .dataframe tbody tr th {\n",
       "        vertical-align: top;\n",
       "    }\n",
       "\n",
       "    .dataframe thead th {\n",
       "        text-align: right;\n",
       "    }\n",
       "</style>\n",
       "<table border=\"1\" class=\"dataframe\">\n",
       "  <thead>\n",
       "    <tr style=\"text-align: right;\">\n",
       "      <th></th>\n",
       "      <th>F1 Score</th>\n",
       "      <th>Accuracy Score</th>\n",
       "      <th>Precission</th>\n",
       "      <th>Recall</th>\n",
       "    </tr>\n",
       "  </thead>\n",
       "  <tbody>\n",
       "    <tr>\n",
       "      <th>GEN</th>\n",
       "      <td>0.736156</td>\n",
       "      <td>0.751534</td>\n",
       "      <td>0.773973</td>\n",
       "      <td>0.701863</td>\n",
       "    </tr>\n",
       "    <tr>\n",
       "      <th>HYP</th>\n",
       "      <td>0.628099</td>\n",
       "      <td>0.613734</td>\n",
       "      <td>0.575758</td>\n",
       "      <td>0.690909</td>\n",
       "    </tr>\n",
       "    <tr>\n",
       "      <th>RQ</th>\n",
       "      <td>0.662420</td>\n",
       "      <td>0.689150</td>\n",
       "      <td>0.693333</td>\n",
       "      <td>0.634146</td>\n",
       "    </tr>\n",
       "  </tbody>\n",
       "</table>\n",
       "</div>"
      ],
      "text/plain": [
       "     F1 Score  Accuracy Score  Precission    Recall\n",
       "GEN  0.736156        0.751534    0.773973  0.701863\n",
       "HYP  0.628099        0.613734    0.575758  0.690909\n",
       "RQ   0.662420        0.689150    0.693333  0.634146"
      ]
     },
     "execution_count": 98,
     "metadata": {},
     "output_type": "execute_result"
    }
   ],
   "source": [
    "#Preparamos los scores de manera tal que los podamos visualizar \n",
    "#GEN SCORES\n",
    "nb_f1cvgen = f1_score(y_testcvgen, nb_predgen)\n",
    "nb_accuracycvgen = accuracy_score(y_testcvgen, nb_predgen)\n",
    "nb_precisioncvgen = precision_score(y_testcvgen, nb_predgen)\n",
    "nb_recallcvgen = recall_score(y_testcvgen, nb_predgen)\n",
    "#HYP SCORES\n",
    "nb_f1cvhyp = f1_score(y_testcvhyp, nb_predhyp)\n",
    "nb_accuracycvhyp = accuracy_score(y_testcvhyp, nb_predhyp)\n",
    "nb_precisioncvhyp = precision_score(y_testcvhyp, nb_predhyp)\n",
    "nb_recallcvhyp = recall_score(y_testcvhyp, nb_predhyp)\n",
    "#RQ SCORES\n",
    "nb_f1cvrq = f1_score(y_testcvrq, nb_predrq)\n",
    "nb_accuracycvrq = accuracy_score(y_testcvrq, nb_predrq)\n",
    "nb_precisioncvrq = precision_score(y_testcvrq, nb_predrq)\n",
    "nb_recallcvrq = recall_score(y_testcvrq, nb_predrq)\n",
    "\n",
    "nbcv_scores_columns = {'F1 Score':[nb_f1cvgen, nb_f1cvhyp, nb_f1cvrq],\n",
    "            'Accuracy Score':[nb_accuracycvgen, nb_accuracycvhyp, nb_accuracycvrq],\n",
    "            'Precission':[nb_precisioncvgen, nb_precisioncvhyp, nb_precisioncvrq],\n",
    "            'Recall':[nb_recallcvgen, nb_recallcvhyp, nb_recallcvrq]}\n",
    "\n",
    "nbcv_scores = pd.DataFrame(nbcv_scores_columns, columns = ['F1 Score','Accuracy Score', 'Precission', 'Recall'],\n",
    "                         index=['GEN','HYP','RQ'])\n",
    "nbcv_scores"
   ]
  },
  {
   "cell_type": "markdown",
   "metadata": {},
   "source": [
    "#### 3.2.2 Naive Bayes aplicado a TFIDF"
   ]
  },
  {
   "cell_type": "code",
   "execution_count": 99,
   "metadata": {},
   "outputs": [],
   "source": [
    "#Entrenamos los modelos con cada uno de los corpus.\n",
    "#GEN\n",
    "nb_gen1 = MultinomialNB()\n",
    "nb_gen1.fit(X_traintfgen, y_traintfgen)\n",
    "nb_predgen1 = nb_gen1.predict(X_testtfgen)\n",
    "#HYP\n",
    "nb_hyp1 = MultinomialNB()\n",
    "nb_hyp1.fit(X_traintfhyp, y_traintfhyp)\n",
    "nb_predhyp1 = nb_hyp1.predict(X_testtfhyp)\n",
    "#RQ\n",
    "nb_rq1 = MultinomialNB()\n",
    "nb_rq1.fit(X_traintfrq, y_traintfrq)\n",
    "nb_predrq1 = nb_rq1.predict(X_testtfrq)"
   ]
  },
  {
   "cell_type": "code",
   "execution_count": 100,
   "metadata": {},
   "outputs": [
    {
     "data": {
      "text/html": [
       "<div>\n",
       "<style scoped>\n",
       "    .dataframe tbody tr th:only-of-type {\n",
       "        vertical-align: middle;\n",
       "    }\n",
       "\n",
       "    .dataframe tbody tr th {\n",
       "        vertical-align: top;\n",
       "    }\n",
       "\n",
       "    .dataframe thead th {\n",
       "        text-align: right;\n",
       "    }\n",
       "</style>\n",
       "<table border=\"1\" class=\"dataframe\">\n",
       "  <thead>\n",
       "    <tr style=\"text-align: right;\">\n",
       "      <th></th>\n",
       "      <th>F1 Score</th>\n",
       "      <th>Accuracy Score</th>\n",
       "      <th>Precission</th>\n",
       "      <th>Recall</th>\n",
       "    </tr>\n",
       "  </thead>\n",
       "  <tbody>\n",
       "    <tr>\n",
       "      <th>GEN</th>\n",
       "      <td>0.643068</td>\n",
       "      <td>0.721626</td>\n",
       "      <td>0.876676</td>\n",
       "      <td>0.507764</td>\n",
       "    </tr>\n",
       "    <tr>\n",
       "      <th>HYP</th>\n",
       "      <td>0.653696</td>\n",
       "      <td>0.618026</td>\n",
       "      <td>0.571429</td>\n",
       "      <td>0.763636</td>\n",
       "    </tr>\n",
       "    <tr>\n",
       "      <th>RQ</th>\n",
       "      <td>0.643599</td>\n",
       "      <td>0.697947</td>\n",
       "      <td>0.744000</td>\n",
       "      <td>0.567073</td>\n",
       "    </tr>\n",
       "  </tbody>\n",
       "</table>\n",
       "</div>"
      ],
      "text/plain": [
       "     F1 Score  Accuracy Score  Precission    Recall\n",
       "GEN  0.643068        0.721626    0.876676  0.507764\n",
       "HYP  0.653696        0.618026    0.571429  0.763636\n",
       "RQ   0.643599        0.697947    0.744000  0.567073"
      ]
     },
     "execution_count": 100,
     "metadata": {},
     "output_type": "execute_result"
    }
   ],
   "source": [
    "#GEN SCORES\n",
    "nb_f1tfgen = f1_score(y_testtfgen, nb_predgen1)\n",
    "nb_accuracytfgen = accuracy_score(y_testtfgen, nb_predgen1)\n",
    "nb_precisiontfgen = precision_score(y_testtfgen, nb_predgen1)\n",
    "nb_recalltfgen = recall_score(y_testtfgen, nb_predgen1)\n",
    "#HYP SCORES\n",
    "nb_f1tfhyp = f1_score(y_testtfhyp, nb_predhyp1)\n",
    "nb_accuracytfhyp = accuracy_score(y_testtfhyp, nb_predhyp1)\n",
    "nb_precisiontfhyp = precision_score(y_testtfhyp, nb_predhyp1)\n",
    "nb_recalltfhyp = recall_score(y_testtfhyp, nb_predhyp1)\n",
    "#RQ SCORES\n",
    "nb_f1tfrq = f1_score(y_testtfrq, nb_predrq1)\n",
    "nb_accuracytfrq = accuracy_score(y_testtfrq, nb_predrq1)\n",
    "nb_precisiontfrq = precision_score(y_testtfrq, nb_predrq1)\n",
    "nb_recalltfrq = recall_score(y_testtfrq, nb_predrq1)\n",
    "\n",
    "nb_tf_scores_columns = {'F1 Score':[nb_f1tfgen, nb_f1tfhyp, nb_f1tfrq],\n",
    "            'Accuracy Score':[nb_accuracytfgen, nb_accuracytfhyp, nb_accuracytfrq],\n",
    "            'Precission':[nb_precisiontfgen, nb_precisiontfhyp, nb_precisiontfrq],\n",
    "            'Recall':[nb_recalltfgen, nb_recalltfhyp, nb_recalltfrq]}\n",
    "\n",
    "nb_tf_scores = pd.DataFrame(nb_tf_scores_columns, columns = ['F1 Score','Accuracy Score', 'Precission', 'Recall'],\n",
    "                         index=['GEN','HYP','RQ'])\n",
    "nb_tf_scores"
   ]
  },
  {
   "cell_type": "markdown",
   "metadata": {},
   "source": [
    "Los resultados de aplicar a NB los dos corpus procesados de forma diferente son un tanto distinto a la regresión logística (**armar la tabla combinando los dos dataframes con los scores**). Sin embargo, y **conclusión provisoria**, podemos ver que sin mucha ingenieria de features (y sin adentrarnos nada en la afinación de parámetros de los modelos) ni limpieza de los corpus, los métodos de preprocesamiento (Bag of Words y TFIDF) no parecen cambiar de manera radical el output del modelo. "
   ]
  },
  {
   "cell_type": "markdown",
   "metadata": {},
   "source": [
    "#### 3.3 Regresión lineal y PCA aplicadas a TFIDF."
   ]
  },
  {
   "cell_type": "markdown",
   "metadata": {},
   "source": [
    "En un cambio metodológico, vamos a tratar los corpus con técnicas de reducción de dimensionalidad. Vamos a aplicar un pipeline donde combinaremos un **regresor** con **PCA**. Lo que buscamos aquí es ver si una reducción dramática de dimensionalidad con esta técnica de embedding genera algún camio drástico, tanto para bien como para mal. Cabe remarcar que todo esto todavía sin hacer una limpieza fina de las features. "
   ]
  },
  {
   "cell_type": "markdown",
   "metadata": {},
   "source": [
    "#### 3.3.1 PCA y LR aplicados a Bag of Words\n",
    "Aplicamos PCA al procesamiento de los corpus por parte del modelo. Como no sabemos a priori cuál sería la cantidad de dimensiones óptima para este caso, realizaremos un gridsearch sobre el corpus GEN en torno a un conjunto limitado de features, y luego aplicaremos esos parámetros en el resto del corpora."
   ]
  },
  {
   "cell_type": "code",
   "execution_count": 110,
   "metadata": {},
   "outputs": [
    {
     "name": "stdout",
     "output_type": "stream",
     "text": [
      "Best parameter (CV score=0.716):\n",
      "{'svd__n_components': 500}\n"
     ]
    }
   ],
   "source": [
    "#Cargamos el modelo\n",
    "svd = TruncatedSVD()\n",
    "logistic = LogisticRegression(max_iter=10000, tol=0.1)\n",
    "pipe = Pipeline(steps=[('svd', svd), ('logistic', logistic)])\n",
    "param_grid = {'svd__n_components': [5, 50, 100, 200, 500]}\n",
    "\n",
    "#entrenamos con el conjunto de GEN tratado con CountVectorizer\n",
    "search = GridSearchCV(pipe, param_grid, n_jobs=-1)\n",
    "search.fit(X_traincvgen, y_traincvgen)\n",
    "print(\"Best parameter (CV score=%0.3f):\" % search.best_score_)\n",
    "print(search.best_params_)\n"
   ]
  },
  {
   "cell_type": "code",
   "execution_count": 119,
   "metadata": {},
   "outputs": [
    {
     "data": {
      "image/png": "[encoded data removed]",
      "text/plain": [
       "<Figure size 432x432 with 2 Axes>"
      ]
     },
     "metadata": {
      "needs_background": "light"
     },
     "output_type": "display_data"
    }
   ],
   "source": [
    "# Ploteamos el spectrum del SVD\n",
    "svd.fit(X_traincvgen)\n",
    "\n",
    "fig, (ax0, ax1) = plt.subplots(nrows=2, sharex=True, figsize=(6, 6))\n",
    "ax0.plot(np.arange(1, svd.n_components + 1),\n",
    "         svd.explained_variance_ratio_, '+', linewidth=2)\n",
    "ax0.set_ylabel('SVD explained variance ratio')\n",
    "\n",
    "ax0.axvline(search.best_estimator_.named_steps['svd'].n_components,\n",
    "            linestyle=':', label='n_components elelgidos')\n",
    "ax0.legend(prop=dict(size=12))\n",
    "\n",
    "# Para cada número de componentes, encontramos el mejor resultado del clasificador\n",
    "results = pd.DataFrame(search.cv_results_)\n",
    "components_col = 'param_svd__n_components'\n",
    "best_clfs = results.groupby(components_col).apply(\n",
    "    lambda g: g.nlargest(1, 'mean_test_score'))\n",
    "\n",
    "best_clfs.plot(x=components_col, y='mean_test_score', yerr='std_test_score',\n",
    "               legend=False, ax=ax1)\n",
    "ax1.set_ylabel('Classification accuracy (val)')\n",
    "ax1.set_xlabel('n_components')\n",
    "\n",
    "plt.xlim(-1, 550)\n",
    "\n",
    "plt.tight_layout()\n",
    "plt.show()"
   ]
  },
  {
   "cell_type": "markdown",
   "metadata": {},
   "source": [
    "Si bien utilizamos otras métricas que las anteriores en el grid search, podemos ver que a partir de 100 componentes la curva empieza a decrecer. El **fenómeno Hughes** muestra que a medida que aumenta el número de features, el rendimiento del clasificador también aumenta hasta que alcanzamos el número óptimo de features. Podemos asumir solo a  efectos prácticos que este número será alcanzado en algún lugar alrededor de n=1000, pero que el cambio dr'atico opera alrededor de n=100. Así que nos quedamos con ese número de features  para realizar al reducción en el resto de los corpus."
   ]
  },
  {
   "cell_type": "code",
   "execution_count": 127,
   "metadata": {},
   "outputs": [],
   "source": [
    "#SVD en GEN\n",
    "svd_gen = TruncatedSVD(n_components=100)\n",
    "svd_cvgen = svd_gen.fit_transform(cv_gen)\n",
    "\n",
    "#SVD en HYP\n",
    "svd_hyp = TruncatedSVD(n_components=100)\n",
    "svd_cvhyp = svd_hyp.fit_transform(cv_hyp)\n",
    "\n",
    "#SVD en RQ\n",
    "svd_rq = TruncatedSVD(n_components=100)\n",
    "svd_cvrq = svd_rq.fit_transform(cv_rq)"
   ]
  },
  {
   "cell_type": "code",
   "execution_count": 129,
   "metadata": {},
   "outputs": [],
   "source": [
    "#Preparamos los conjuntos de entrenamiento para usarlos con los modelos\n",
    "#GEN\n",
    "X_trainsvdgen, X_testsvdgen, y_trainsvdgen, y_testsvdgen = train_test_split(svd_cvgen, y_gen, test_size=0.2, random_state=42)\n",
    "#HYP\n",
    "X_trainsvdhyp, X_testsvdhyp, y_trainsvdhyp, y_testsvdhyp = train_test_split(svd_cvhyp, y_hyp, test_size=0.2, random_state=42)\n",
    "#RQ\n",
    "X_trainsvdrq, X_testsvdrq, y_trainsvdrq, y_testsvdrq = train_test_split(svd_cvrq, y_rq, test_size=0.2, random_state=42)"
   ]
  },
  {
   "cell_type": "code",
   "execution_count": 130,
   "metadata": {},
   "outputs": [],
   "source": [
    "#Entrenamos los modelos\n",
    "#GEN\n",
    "lr_gensvd = LogisticRegression(class_weight=\"balanced\")\n",
    "lr_gensvd.fit(X_trainsvdgen, y_trainsvdgen)\n",
    "lr_predgensvd = lr_gensvd.predict(X_testsvdgen)\n",
    "#HYP\n",
    "lr_hypsvd = LogisticRegression(class_weight=\"balanced\")\n",
    "lr_hypsvd.fit(X_trainsvdhyp, y_trainsvdhyp)\n",
    "lr_predhypsvd = lr_hypsvd.predict(X_testsvdhyp)\n",
    "#RQ\n",
    "lr_rqsvd = LogisticRegression(class_weight=\"balanced\")\n",
    "lr_rqsvd.fit(X_trainsvdrq, y_trainsvdrq)\n",
    "lr_predrqsvd = lr_rqsvd.predict(X_testsvdrq)"
   ]
  },
  {
   "cell_type": "code",
   "execution_count": 131,
   "metadata": {},
   "outputs": [
    {
     "data": {
      "text/html": [
       "<div>\n",
       "<style scoped>\n",
       "    .dataframe tbody tr th:only-of-type {\n",
       "        vertical-align: middle;\n",
       "    }\n",
       "\n",
       "    .dataframe tbody tr th {\n",
       "        vertical-align: top;\n",
       "    }\n",
       "\n",
       "    .dataframe thead th {\n",
       "        text-align: right;\n",
       "    }\n",
       "</style>\n",
       "<table border=\"1\" class=\"dataframe\">\n",
       "  <thead>\n",
       "    <tr style=\"text-align: right;\">\n",
       "      <th></th>\n",
       "      <th>F1 Score</th>\n",
       "      <th>Accuracy Score</th>\n",
       "      <th>Precission</th>\n",
       "      <th>Recall</th>\n",
       "    </tr>\n",
       "  </thead>\n",
       "  <tbody>\n",
       "    <tr>\n",
       "      <th>GEN</th>\n",
       "      <td>0.718795</td>\n",
       "      <td>0.699387</td>\n",
       "      <td>0.668000</td>\n",
       "      <td>0.777950</td>\n",
       "    </tr>\n",
       "    <tr>\n",
       "      <th>HYP</th>\n",
       "      <td>0.619469</td>\n",
       "      <td>0.630901</td>\n",
       "      <td>0.603448</td>\n",
       "      <td>0.636364</td>\n",
       "    </tr>\n",
       "    <tr>\n",
       "      <th>RQ</th>\n",
       "      <td>0.664706</td>\n",
       "      <td>0.665689</td>\n",
       "      <td>0.642045</td>\n",
       "      <td>0.689024</td>\n",
       "    </tr>\n",
       "  </tbody>\n",
       "</table>\n",
       "</div>"
      ],
      "text/plain": [
       "     F1 Score  Accuracy Score  Precission    Recall\n",
       "GEN  0.718795        0.699387    0.668000  0.777950\n",
       "HYP  0.619469        0.630901    0.603448  0.636364\n",
       "RQ   0.664706        0.665689    0.642045  0.689024"
      ]
     },
     "execution_count": 131,
     "metadata": {},
     "output_type": "execute_result"
    }
   ],
   "source": [
    "#Analizamos los scores\n",
    "#GEN SCORES\n",
    "f1svdgen = f1_score(y_testsvdgen, lr_predgensvd)\n",
    "accuracysvdgen = accuracy_score(y_testsvdgen, lr_predgensvd)\n",
    "precisionsvdgen = precision_score(y_testsvdgen, lr_predgensvd)\n",
    "recallsvdgen = recall_score(y_testsvdgen, lr_predgensvd)\n",
    "#HYP SCORES\n",
    "f1svdhyp = f1_score(y_testsvdhyp, lr_predhypsvd)\n",
    "accuracysvdhyp = accuracy_score(y_testsvdhyp, lr_predhypsvd)\n",
    "precisionsvdhyp = precision_score(y_testsvdhyp, lr_predhypsvd)\n",
    "recallsvdhyp = recall_score(y_testsvdhyp, lr_predhypsvd)\n",
    "#RQ SCORES\n",
    "f1svdrq = f1_score(y_testsvdrq, lr_predrqsvd)\n",
    "accuracysvdrq = accuracy_score(y_testsvdrq, lr_predrqsvd)\n",
    "precisionsvdrq = precision_score(y_testsvdrq, lr_predrqsvd)\n",
    "recallsvdrq = recall_score(y_testsvdrq, lr_predrqsvd)\n",
    "\n",
    "svd_scores_columns = {'F1 Score':[f1svdgen, f1svdhyp, f1svdrq],\n",
    "            'Accuracy Score':[accuracysvdgen, accuracysvdhyp, accuracysvdrq],\n",
    "            'Precission':[precisionsvdgen, precisionsvdhyp, precisionsvdrq],\n",
    "            'Recall':[recallsvdgen, recallsvdhyp, recallsvdrq]}\n",
    "\n",
    "svd_scores = pd.DataFrame(svd_scores_columns, columns = ['F1 Score','Accuracy Score', 'Precission', 'Recall'],\n",
    "                         index=['GEN','HYP','RQ'])\n",
    "svd_scores"
   ]
  },
  {
   "cell_type": "markdown",
   "metadata": {},
   "source": [
    "Si comparamos los resultados con la tabla del regresor para bag of words sin PCA, vemos que no parece haber una mejora sustancial, de hecho, en algunos casos parece caer el score. Esto se puede deber a muchas cosas, entre ellas el hecho de que HYP y RQ son más pequeños que GEN, y es difícil lograr bueno modelos a partir de tan poca información. \n",
    "Sin embargo, podemos argumentar que no hemos llegado tampoco al número óptimo de reducción de features con **SVD** para bag of Words, en cuyo caso valdría la pena ampliar el estudio con una búsqueda de parámetros exhaustiva."
   ]
  },
  {
   "cell_type": "markdown",
   "metadata": {},
   "source": [
    "#### 4. Conclusiones provisorias\n",
    "\n",
    "De lo visto en los puntos anteriores podemos extraer las siguientes conclusiones provisorias:\n",
    "\n",
    "1. El tamaño importa: el hecho de que los scores en líneas generales funcionen mejor en GEN que en HYP y RQ puede deberse a la dimensión sensiblemente más pequeña de casos que manejan estos dos últimos. \n",
    "\n",
    "2. No parece haber una mejora sustancial a priori que nos permita elegir entre TFIDF y Bag of Words. Es necesario hacer un balance entre varias métricas juntas (prestando especial atención no solo a la accuracy sino a la precission y el recall).\n",
    "\n",
    "3. Preprosesamiento de la información: claramente estos números son engañosos, con lso datos que contamos ahora podemos volver y realizar mejoras en el preprosesamiento de la información. Algunas preguntas válidas en ese punto son: ¿cómo pesan los signos en el reconocimiento de ditintos tipos de sarcasmo, como por ejemplo, en preguntas retóricas (RQ)? ¿Los emojis y los hashtags, de aparecer, nos ayudan? ¿Vale la pena remover stopwords? ¿Qué podría perderse si eliminamos aquellas palabras que ocurren solo una vez?\n",
    "\n",
    "4. SVD y el análisis de semánticas latentes no parecieron ayudar demasiado en esta tarea (de hecho, bajaron todos los scores). Sin embargo, parecieran haber una diferencia entre cómo afeta al análisis del corpus GEN en relación a los otros dos. Dos líneas de trabajo se tiene que plantear aquí: un gridsearch para realizar una búsqueda de hiperparámetros sobre cada conjunto (buscando acercanos al número óptimo de features) y luego probar distintos modelos con los cuales analizar la matriz reducida.\n",
    "\n",
    "5. Es muy probable que con TFIDF es resultado de trabajar con LSA (SVD) de números distintos. Realizar experimentos que apunten a estudiar estos modelos."
   ]
  },
  {
   "cell_type": "markdown",
   "metadata": {},
   "source": [
    "#### Bibliografía consultada:\n",
    "\n",
    "- Shereen Oraby, Vrindavan Harrison, Lena Reed, Ernesto Hernandez, Ellen Riloff and Marilyn Walker (2016). \"Creating and Characterizing a Diverse Corpus of Sarcasm in Dialogue.\" In *The 17th Annual SIGdial Meeting on Discourse and Dialogue (SIGDIAL)*, Los Angeles, California, USA.\n",
    "\n",
    "- Rob Abbott, Brian Ecker, Pranav Anand, Marilyn A. Walker (2016). \"Internet Argument Corpus 2.0: An SQL schema for Dialogic Social Media and the Corpora to go with it.\" In *Language Resources and Evaluation Conference* (LREC), Portorož, Slovenia.\n",
    "\n",
    "- Daniel Jurafsky, James H. Martin (2019). *Speech and Language Processing*, Third Edition draft\n",
    "\n",
    "- Silviu Vlad Oprea, Walid Magdy(2019). \"Exploring Author Context for Detecting Intended vs Perceived Sarcasm\", In  *Proceedings of the 57th Annual Meeting of the Association for Computational Linguistics*,  pp. 2854–2859 Florence, Italy.\n",
    "\n"
   ]
  }
 ],
 "metadata": {
  "kernelspec": {
   "display_name": "Python 3",
   "language": "python",
   "name": "python3"
  },
  "language_info": {
   "codemirror_mode": {
    "name": "ipython",
    "version": 3
   },
   "file_extension": ".py",
   "mimetype": "text/x-python",
   "name": "python",
   "nbconvert_exporter": "python",
   "pygments_lexer": "ipython3",
   "version": "3.8.3"
  }
 },
 "nbformat": 4,
 "nbformat_minor": 4
}
